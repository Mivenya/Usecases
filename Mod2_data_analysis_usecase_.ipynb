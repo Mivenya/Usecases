{
 "cells": [
  {
   "cell_type": "markdown",
   "id": "abc49bed-ae0c-4b0f-bc66-aa5da2d91fd5",
   "metadata": {},
   "source": [
    "# Data Analysis Usecase"
   ]
  },
  {
   "cell_type": "markdown",
   "id": "fb67a12d-3df7-493c-b37d-435c6bbb8dfe",
   "metadata": {},
   "source": [
    "### Steps to guarantee beneficial analysis\n",
    "There are multiple factors to take care of to ensure a better analytics pipeline for your data.\n",
    "\n",
    "### Step 1: What Do you need to find out?\n",
    "The first step is to consider what your goal is and what decision-making it will facilitate. What outcome from the analysis would you deem a success? These introductory data analysis questions are necessary to guide you through the process and help focus on key insights.\n",
    "\n",
    "Examples for common analysis questions:\n",
    "- What is a typical value?\n",
    "- What is the uncertainty for a typical value?\n",
    "- What is a good fit for a set of numbers?\n",
    "- What are the percentiles of?\n",
    "- Does a modification have an effect?\n",
    "- Does a factor have an effect?\n",
    "- What are the most important factors?\n",
    "- Does the data have outliers?\n",
    "\n",
    "### Step 2: Define the metrics to measure success of your goal\n",
    "\n",
    "The Next step is to define what exact features will help in retrieving the answers you need. You explore the data available and understand what combinations of your data can answer the questions you have.\n",
    "### Step 3: Define the steps to reach your goal\n",
    "Some datasets need to be cleaned, preprocessed, or even modified critically in order to retrieve your analysis questions. The answers might not be mature enough without performing these steps.\n",
    "An important step of analysis is preparing your data to ensure the quality of your findings.\n",
    "\n",
    "### Step 4: Communicate your findings\n",
    "A critical step is communicating your findings to all stakeholders. This includes non-technical parties in most cases. To be able to communicate your findings, you will need to:\n",
    "Use the proper visualizations that are easy to understand and are the most suitable for a specific result.\n",
    "You might use analytics software to produce reports and dashboards for these stakeholders."
   ]
  },
  {
   "cell_type": "markdown",
   "id": "04a791b4-817b-452f-b3c6-461db768ecc5",
   "metadata": {},
   "source": [
    " All life Bank)?"
   ]
  },
  {
   "cell_type": "markdown",
   "id": "db25a1a3-161c-48dd-b2a3-1f110c3ff29a",
   "metadata": {},
   "source": [
    "## Bank Loan Business Data\n",
    "\n",
    "### Description:\n",
    "\n",
    "Thera Bank is a US bank that has a growing customer base. The majority of these customers are liability customers (depositors) with varying sizes of deposits. The number of customers who are also borrowers (asset customers) is quite small, and the bank is interested in expanding this base rapidly to bring in more loan business and in the process, earn more through the interest on loans. In particular, the management wants to explore ways of converting its liability customers to personal loan customers (while retaining them as depositors).\n",
    "A campaign that the bank ran last year for liability customers showed a healthy conversion rate of over 9% success. This has encouraged the retail marketing department to devise campaigns with better target marketing to increase the success ratio.\n",
    "\n",
    "- ID: Customer ID\n",
    "- Age: Customer’s age in completed years\n",
    "- Experience: #years of professional experience\n",
    "- Income: Annual income of the customer (in thousand dollars)\n",
    "- ZIP Code: Home Address ZIP code\n",
    "- Family: the Family size of the customer\n",
    "- CCAvg: Average spending on credit cards per month (in thousand dollars)\n",
    "- Education: Education Level\n",
    "- Mortgage: Value of house mortgage if any. (in thousand dollars)\n",
    "- Personal_Loan: Did this customer accept the personal loan offered in the last campaign?\n",
    "- Securities_Account: Does the customer have a securities account with the bank?\n",
    "- CD_Account: Does the customer have a certificate of deposit (CD) account with the bank?\n",
    "- Online: Do customers use internet banking facilities?\n",
    "- CreditCard: Does the customer use a credit card issued by any other Bank (excluding All life Bank)?\n",
    "\n",
    "https://www.kaggle.com/datasets/itsmesunil/bank-loan-modelling/download?datasetVersionNumber=1"
   ]
  },
  {
   "cell_type": "code",
   "execution_count": 1,
   "id": "aad3fc44-6270-47e6-be90-c422ea7d6cb4",
   "metadata": {},
   "outputs": [],
   "source": [
    "# Ok - if I understand use case correctly, we are following along to learn and noting any of our thoughts/experiences\n",
    "# So first importing libraries and viewing the columns info"
   ]
  },
  {
   "cell_type": "code",
   "execution_count": 5,
   "id": "9d53bd38-1879-4265-976c-aa68b273554b",
   "metadata": {},
   "outputs": [],
   "source": [
    "import pandas as pd\n",
    "import numpy as np\n",
    "import matplotlib.pyplot\n",
    "import seaborn as sns"
   ]
  },
  {
   "cell_type": "code",
   "execution_count": 7,
   "id": "a510c01a-3811-4541-8f6e-2a93f9f0900c",
   "metadata": {},
   "outputs": [
    {
     "data": {
      "text/html": [
       "<div>\n",
       "<style scoped>\n",
       "    .dataframe tbody tr th:only-of-type {\n",
       "        vertical-align: middle;\n",
       "    }\n",
       "\n",
       "    .dataframe tbody tr th {\n",
       "        vertical-align: top;\n",
       "    }\n",
       "\n",
       "    .dataframe thead th {\n",
       "        text-align: right;\n",
       "    }\n",
       "</style>\n",
       "<table border=\"1\" class=\"dataframe\">\n",
       "  <thead>\n",
       "    <tr style=\"text-align: right;\">\n",
       "      <th></th>\n",
       "      <th>ID</th>\n",
       "      <th>Age</th>\n",
       "      <th>Experience</th>\n",
       "      <th>Income</th>\n",
       "      <th>ZIP Code</th>\n",
       "      <th>Family</th>\n",
       "      <th>CCAvg</th>\n",
       "      <th>Education</th>\n",
       "      <th>Mortgage</th>\n",
       "      <th>Personal Loan</th>\n",
       "      <th>Securities Account</th>\n",
       "      <th>CD Account</th>\n",
       "      <th>Online</th>\n",
       "      <th>CreditCard</th>\n",
       "    </tr>\n",
       "  </thead>\n",
       "  <tbody>\n",
       "    <tr>\n",
       "      <th>0</th>\n",
       "      <td>1</td>\n",
       "      <td>25</td>\n",
       "      <td>1</td>\n",
       "      <td>49</td>\n",
       "      <td>91107</td>\n",
       "      <td>4</td>\n",
       "      <td>1.6</td>\n",
       "      <td>1</td>\n",
       "      <td>0</td>\n",
       "      <td>0</td>\n",
       "      <td>1</td>\n",
       "      <td>0</td>\n",
       "      <td>0</td>\n",
       "      <td>0</td>\n",
       "    </tr>\n",
       "    <tr>\n",
       "      <th>1</th>\n",
       "      <td>2</td>\n",
       "      <td>45</td>\n",
       "      <td>19</td>\n",
       "      <td>34</td>\n",
       "      <td>90089</td>\n",
       "      <td>3</td>\n",
       "      <td>1.5</td>\n",
       "      <td>1</td>\n",
       "      <td>0</td>\n",
       "      <td>0</td>\n",
       "      <td>1</td>\n",
       "      <td>0</td>\n",
       "      <td>0</td>\n",
       "      <td>0</td>\n",
       "    </tr>\n",
       "    <tr>\n",
       "      <th>2</th>\n",
       "      <td>3</td>\n",
       "      <td>39</td>\n",
       "      <td>15</td>\n",
       "      <td>11</td>\n",
       "      <td>94720</td>\n",
       "      <td>1</td>\n",
       "      <td>1.0</td>\n",
       "      <td>1</td>\n",
       "      <td>0</td>\n",
       "      <td>0</td>\n",
       "      <td>0</td>\n",
       "      <td>0</td>\n",
       "      <td>0</td>\n",
       "      <td>0</td>\n",
       "    </tr>\n",
       "    <tr>\n",
       "      <th>3</th>\n",
       "      <td>4</td>\n",
       "      <td>35</td>\n",
       "      <td>9</td>\n",
       "      <td>100</td>\n",
       "      <td>94112</td>\n",
       "      <td>1</td>\n",
       "      <td>2.7</td>\n",
       "      <td>2</td>\n",
       "      <td>0</td>\n",
       "      <td>0</td>\n",
       "      <td>0</td>\n",
       "      <td>0</td>\n",
       "      <td>0</td>\n",
       "      <td>0</td>\n",
       "    </tr>\n",
       "    <tr>\n",
       "      <th>4</th>\n",
       "      <td>5</td>\n",
       "      <td>35</td>\n",
       "      <td>8</td>\n",
       "      <td>45</td>\n",
       "      <td>91330</td>\n",
       "      <td>4</td>\n",
       "      <td>1.0</td>\n",
       "      <td>2</td>\n",
       "      <td>0</td>\n",
       "      <td>0</td>\n",
       "      <td>0</td>\n",
       "      <td>0</td>\n",
       "      <td>0</td>\n",
       "      <td>1</td>\n",
       "    </tr>\n",
       "  </tbody>\n",
       "</table>\n",
       "</div>"
      ],
      "text/plain": [
       "   ID  Age  Experience  Income  ZIP Code  Family  CCAvg  Education  Mortgage  \\\n",
       "0   1   25           1      49     91107       4    1.6          1         0   \n",
       "1   2   45          19      34     90089       3    1.5          1         0   \n",
       "2   3   39          15      11     94720       1    1.0          1         0   \n",
       "3   4   35           9     100     94112       1    2.7          2         0   \n",
       "4   5   35           8      45     91330       4    1.0          2         0   \n",
       "\n",
       "   Personal Loan  Securities Account  CD Account  Online  CreditCard  \n",
       "0              0                   1           0       0           0  \n",
       "1              0                   1           0       0           0  \n",
       "2              0                   0           0       0           0  \n",
       "3              0                   0           0       0           0  \n",
       "4              0                   0           0       0           1  "
      ]
     },
     "execution_count": 7,
     "metadata": {},
     "output_type": "execute_result"
    }
   ],
   "source": [
    "df = pd.read_csv(\"Bank_Personal_Loan_Modelling.csv\")\n",
    "df.head()"
   ]
  },
  {
   "cell_type": "code",
   "execution_count": 8,
   "id": "d00ec259-62f7-4588-bcb8-450bb65f57cc",
   "metadata": {},
   "outputs": [
    {
     "name": "stdout",
     "output_type": "stream",
     "text": [
      "<class 'pandas.core.frame.DataFrame'>\n",
      "RangeIndex: 5000 entries, 0 to 4999\n",
      "Data columns (total 14 columns):\n",
      " #   Column              Non-Null Count  Dtype  \n",
      "---  ------              --------------  -----  \n",
      " 0   ID                  5000 non-null   int64  \n",
      " 1   Age                 5000 non-null   int64  \n",
      " 2   Experience          5000 non-null   int64  \n",
      " 3   Income              5000 non-null   int64  \n",
      " 4   ZIP Code            5000 non-null   int64  \n",
      " 5   Family              5000 non-null   int64  \n",
      " 6   CCAvg               5000 non-null   float64\n",
      " 7   Education           5000 non-null   int64  \n",
      " 8   Mortgage            5000 non-null   int64  \n",
      " 9   Personal Loan       5000 non-null   int64  \n",
      " 10  Securities Account  5000 non-null   int64  \n",
      " 11  CD Account          5000 non-null   int64  \n",
      " 12  Online              5000 non-null   int64  \n",
      " 13  CreditCard          5000 non-null   int64  \n",
      "dtypes: float64(1), int64(13)\n",
      "memory usage: 547.0 KB\n"
     ]
    }
   ],
   "source": [
    "df.info()"
   ]
  },
  {
   "cell_type": "code",
   "execution_count": 9,
   "id": "80fcee5c-3613-4340-939e-4816f871c0d7",
   "metadata": {},
   "outputs": [],
   "source": [
    "# Which shows us there are 14 total features - 8 int64 (numerical) 5 Float64 (numerical), 1 object (catagorical will need encoding if kept)\n",
    "# I notice that in here they are being called attributes rather than features - are they both considered correct?"
   ]
  },
  {
   "cell_type": "code",
   "execution_count": 10,
   "id": "a775e5f3-3270-4e4f-9a14-d30c14d44519",
   "metadata": {},
   "outputs": [],
   "source": [
    "#Next we are viewing some of the statistical information for Age, CCAvg (credit card average?) and Income"
   ]
  },
  {
   "cell_type": "code",
   "execution_count": 11,
   "id": "bbf17ba0-752d-4f6f-96a4-0dd61ebc691a",
   "metadata": {},
   "outputs": [
    {
     "data": {
      "text/html": [
       "<div>\n",
       "<style scoped>\n",
       "    .dataframe tbody tr th:only-of-type {\n",
       "        vertical-align: middle;\n",
       "    }\n",
       "\n",
       "    .dataframe tbody tr th {\n",
       "        vertical-align: top;\n",
       "    }\n",
       "\n",
       "    .dataframe thead th {\n",
       "        text-align: right;\n",
       "    }\n",
       "</style>\n",
       "<table border=\"1\" class=\"dataframe\">\n",
       "  <thead>\n",
       "    <tr style=\"text-align: right;\">\n",
       "      <th></th>\n",
       "      <th>Age</th>\n",
       "      <th>Income</th>\n",
       "      <th>CCAvg</th>\n",
       "    </tr>\n",
       "  </thead>\n",
       "  <tbody>\n",
       "    <tr>\n",
       "      <th>count</th>\n",
       "      <td>5000.000000</td>\n",
       "      <td>5000.000000</td>\n",
       "      <td>5000.000000</td>\n",
       "    </tr>\n",
       "    <tr>\n",
       "      <th>mean</th>\n",
       "      <td>45.338400</td>\n",
       "      <td>73.774200</td>\n",
       "      <td>1.937938</td>\n",
       "    </tr>\n",
       "    <tr>\n",
       "      <th>std</th>\n",
       "      <td>11.463166</td>\n",
       "      <td>46.033729</td>\n",
       "      <td>1.747659</td>\n",
       "    </tr>\n",
       "    <tr>\n",
       "      <th>min</th>\n",
       "      <td>23.000000</td>\n",
       "      <td>8.000000</td>\n",
       "      <td>0.000000</td>\n",
       "    </tr>\n",
       "    <tr>\n",
       "      <th>25%</th>\n",
       "      <td>35.000000</td>\n",
       "      <td>39.000000</td>\n",
       "      <td>0.700000</td>\n",
       "    </tr>\n",
       "    <tr>\n",
       "      <th>50%</th>\n",
       "      <td>45.000000</td>\n",
       "      <td>64.000000</td>\n",
       "      <td>1.500000</td>\n",
       "    </tr>\n",
       "    <tr>\n",
       "      <th>75%</th>\n",
       "      <td>55.000000</td>\n",
       "      <td>98.000000</td>\n",
       "      <td>2.500000</td>\n",
       "    </tr>\n",
       "    <tr>\n",
       "      <th>max</th>\n",
       "      <td>67.000000</td>\n",
       "      <td>224.000000</td>\n",
       "      <td>10.000000</td>\n",
       "    </tr>\n",
       "  </tbody>\n",
       "</table>\n",
       "</div>"
      ],
      "text/plain": [
       "               Age       Income        CCAvg\n",
       "count  5000.000000  5000.000000  5000.000000\n",
       "mean     45.338400    73.774200     1.937938\n",
       "std      11.463166    46.033729     1.747659\n",
       "min      23.000000     8.000000     0.000000\n",
       "25%      35.000000    39.000000     0.700000\n",
       "50%      45.000000    64.000000     1.500000\n",
       "75%      55.000000    98.000000     2.500000\n",
       "max      67.000000   224.000000    10.000000"
      ]
     },
     "execution_count": 11,
     "metadata": {},
     "output_type": "execute_result"
    }
   ],
   "source": [
    "df[[\"Age\", \"Income\", \"CCAvg\"]].describe()"
   ]
  },
  {
   "cell_type": "markdown",
   "id": "c9c632ed-a394-4492-a436-0ec51659adc4",
   "metadata": {},
   "source": [
    " Which gave the following information they noted\n",
    "\n",
    "We can conclude:\r",
    "- \n",
    "The average age of 45 years with a deviation of 11 years.- \r\n",
    "The average income of 73,000$ with the maximum applicant with 224,000$ for income- .\r\n",
    "75% of the customers have an income of less than 98,000- $.\r\n",
    "Average credit card spending of 1900$."
   ]
  },
  {
   "cell_type": "code",
   "execution_count": 12,
   "id": "f737a9da-6827-433a-91c8-a948be115288",
   "metadata": {},
   "outputs": [],
   "source": [
    "# Next they suggest understanding behaviour of those who have previously applied for loans in order to target them, so filter for from a previous campaign.\n",
    "# I see they are doing this by checking if the values are equal to 1 or \"yes\" so to speak and showing the statisctical for the ones who did"
   ]
  },
  {
   "cell_type": "code",
   "execution_count": 14,
   "id": "215f4fe0-bf2f-4be1-a1b6-cc7f2801199d",
   "metadata": {},
   "outputs": [
    {
     "data": {
      "text/html": [
       "<div>\n",
       "<style scoped>\n",
       "    .dataframe tbody tr th:only-of-type {\n",
       "        vertical-align: middle;\n",
       "    }\n",
       "\n",
       "    .dataframe tbody tr th {\n",
       "        vertical-align: top;\n",
       "    }\n",
       "\n",
       "    .dataframe thead th {\n",
       "        text-align: right;\n",
       "    }\n",
       "</style>\n",
       "<table border=\"1\" class=\"dataframe\">\n",
       "  <thead>\n",
       "    <tr style=\"text-align: right;\">\n",
       "      <th></th>\n",
       "      <th>Age</th>\n",
       "      <th>Income</th>\n",
       "      <th>CCAvg</th>\n",
       "    </tr>\n",
       "  </thead>\n",
       "  <tbody>\n",
       "    <tr>\n",
       "      <th>count</th>\n",
       "      <td>480.000000</td>\n",
       "      <td>480.000000</td>\n",
       "      <td>480.000000</td>\n",
       "    </tr>\n",
       "    <tr>\n",
       "      <th>mean</th>\n",
       "      <td>45.066667</td>\n",
       "      <td>144.745833</td>\n",
       "      <td>3.905354</td>\n",
       "    </tr>\n",
       "    <tr>\n",
       "      <th>std</th>\n",
       "      <td>11.590964</td>\n",
       "      <td>31.584429</td>\n",
       "      <td>2.097681</td>\n",
       "    </tr>\n",
       "    <tr>\n",
       "      <th>min</th>\n",
       "      <td>26.000000</td>\n",
       "      <td>60.000000</td>\n",
       "      <td>0.000000</td>\n",
       "    </tr>\n",
       "    <tr>\n",
       "      <th>25%</th>\n",
       "      <td>35.000000</td>\n",
       "      <td>122.000000</td>\n",
       "      <td>2.600000</td>\n",
       "    </tr>\n",
       "    <tr>\n",
       "      <th>50%</th>\n",
       "      <td>45.000000</td>\n",
       "      <td>142.500000</td>\n",
       "      <td>3.800000</td>\n",
       "    </tr>\n",
       "    <tr>\n",
       "      <th>75%</th>\n",
       "      <td>55.000000</td>\n",
       "      <td>172.000000</td>\n",
       "      <td>5.347500</td>\n",
       "    </tr>\n",
       "    <tr>\n",
       "      <th>max</th>\n",
       "      <td>65.000000</td>\n",
       "      <td>203.000000</td>\n",
       "      <td>10.000000</td>\n",
       "    </tr>\n",
       "  </tbody>\n",
       "</table>\n",
       "</div>"
      ],
      "text/plain": [
       "              Age      Income       CCAvg\n",
       "count  480.000000  480.000000  480.000000\n",
       "mean    45.066667  144.745833    3.905354\n",
       "std     11.590964   31.584429    2.097681\n",
       "min     26.000000   60.000000    0.000000\n",
       "25%     35.000000  122.000000    2.600000\n",
       "50%     45.000000  142.500000    3.800000\n",
       "75%     55.000000  172.000000    5.347500\n",
       "max     65.000000  203.000000   10.000000"
      ]
     },
     "execution_count": 14,
     "metadata": {},
     "output_type": "execute_result"
    }
   ],
   "source": [
    "df[df[\"Personal Loan\"]==1][[\"Age\", \"Income\", \"CCAvg\"]].describe()"
   ]
  },
  {
   "cell_type": "code",
   "execution_count": 15,
   "id": "ce1f99e6-291c-4729-bd51-35c1ab811368",
   "metadata": {},
   "outputs": [],
   "source": [
    "# Next they mention Data cleaning, so checking for and dealing with missing values first"
   ]
  },
  {
   "cell_type": "code",
   "execution_count": 16,
   "id": "f17fdee1-a03d-4082-b8aa-53930660ef90",
   "metadata": {},
   "outputs": [
    {
     "data": {
      "text/plain": [
       "ID                    0\n",
       "Age                   0\n",
       "Experience            0\n",
       "Income                0\n",
       "ZIP Code              0\n",
       "Family                0\n",
       "CCAvg                 0\n",
       "Education             0\n",
       "Mortgage              0\n",
       "Personal Loan         0\n",
       "Securities Account    0\n",
       "CD Account            0\n",
       "Online                0\n",
       "CreditCard            0\n",
       "dtype: int64"
      ]
     },
     "execution_count": 16,
     "metadata": {},
     "output_type": "execute_result"
    }
   ],
   "source": [
    "df.isna().sum()"
   ]
  },
  {
   "cell_type": "markdown",
   "id": "66eb4ded-1e99-4d8c-8e5e-e92d051c30ec",
   "metadata": {},
   "source": [
    "Missing Values:\r\n",
    "6 missing values in the age column.\r\n",
    "5 missing values in income.\r\n",
    "3 missing values in the family column.\r\n",
    "1 missing value for a mortgage."
   ]
  },
  {
   "cell_type": "code",
   "execution_count": 17,
   "id": "d7852f4c-a377-44f4-83eb-cf12cde760f6",
   "metadata": {},
   "outputs": [],
   "source": [
    "# so they are assuming that empty in features \"Family\" and \"Mortgage\" mean they do not have any or a value of Zero so are changing them to that"
   ]
  },
  {
   "cell_type": "code",
   "execution_count": 18,
   "id": "976754c8-50fa-4043-aa36-1092482ee580",
   "metadata": {},
   "outputs": [
    {
     "data": {
      "text/plain": [
       "Family      0\n",
       "Mortgage    0\n",
       "dtype: int64"
      ]
     },
     "execution_count": 18,
     "metadata": {},
     "output_type": "execute_result"
    }
   ],
   "source": [
    "cols = [\"Family\", \"Mortgage\"]\n",
    "for col in cols:\n",
    "    df[col] = df[col].fillna(0)\n",
    "\n",
    "df[[\"Family\", \"Mortgage\"]].isna().sum()\n",
    "#showing that is now fixed"
   ]
  },
  {
   "cell_type": "code",
   "execution_count": 19,
   "id": "57b15a72-12a0-42bb-940a-3bc741ea0422",
   "metadata": {},
   "outputs": [],
   "source": [
    "# For age and Income they will you the mean value (average)"
   ]
  },
  {
   "cell_type": "code",
   "execution_count": 20,
   "id": "c57e4d1b-2a7e-4cea-bf2e-27a7910f6f6d",
   "metadata": {},
   "outputs": [
    {
     "data": {
      "text/plain": [
       "Age       0\n",
       "Income    0\n",
       "dtype: int64"
      ]
     },
     "execution_count": 20,
     "metadata": {},
     "output_type": "execute_result"
    }
   ],
   "source": [
    "cols = [\"Age\", \"Income\"]\n",
    "for col in cols:\n",
    "    df[col] = df[col].fillna(df[col].mean())\n",
    "\n",
    "df[[\"Age\", \"Income\"]].isna().sum()\n",
    "#showing these now fixed also"
   ]
  },
  {
   "cell_type": "code",
   "execution_count": 21,
   "id": "de4cb9f1-a1fa-4f80-aa7a-34025e5b675d",
   "metadata": {},
   "outputs": [],
   "source": [
    "# next they check for duplicate values, which they find 5 of and then remove."
   ]
  },
  {
   "cell_type": "code",
   "execution_count": 22,
   "id": "32f7c3fa-be6b-4400-83e2-e13608b0905e",
   "metadata": {},
   "outputs": [
    {
     "data": {
      "text/plain": [
       "0"
      ]
     },
     "execution_count": 22,
     "metadata": {},
     "output_type": "execute_result"
    }
   ],
   "source": [
    "sum(df.duplicated(subset = ['ID']))"
   ]
  },
  {
   "cell_type": "code",
   "execution_count": 24,
   "id": "819f63f4-c28b-4932-b56c-76c43004a43f",
   "metadata": {},
   "outputs": [
    {
     "data": {
      "text/plain": [
       "0"
      ]
     },
     "execution_count": 24,
     "metadata": {},
     "output_type": "execute_result"
    }
   ],
   "source": [
    "df.drop_duplicates(subset = ['ID'], inplace = True)\n",
    "sum(df.duplicated(subset = ['ID']))\n",
    "#showing these now fixed"
   ]
  },
  {
   "cell_type": "code",
   "execution_count": 25,
   "id": "a865d1d6-0c5e-492d-814a-fe9c988019be",
   "metadata": {},
   "outputs": [],
   "source": [
    "#next they are doing data prep by removing unneeded columns which they decided they don't need ID"
   ]
  },
  {
   "cell_type": "code",
   "execution_count": 26,
   "id": "3d34e0f4-e71b-4abc-a9ac-a6bf490be5b1",
   "metadata": {},
   "outputs": [
    {
     "data": {
      "text/html": [
       "<div>\n",
       "<style scoped>\n",
       "    .dataframe tbody tr th:only-of-type {\n",
       "        vertical-align: middle;\n",
       "    }\n",
       "\n",
       "    .dataframe tbody tr th {\n",
       "        vertical-align: top;\n",
       "    }\n",
       "\n",
       "    .dataframe thead th {\n",
       "        text-align: right;\n",
       "    }\n",
       "</style>\n",
       "<table border=\"1\" class=\"dataframe\">\n",
       "  <thead>\n",
       "    <tr style=\"text-align: right;\">\n",
       "      <th></th>\n",
       "      <th>Age</th>\n",
       "      <th>Experience</th>\n",
       "      <th>Income</th>\n",
       "      <th>ZIP Code</th>\n",
       "      <th>Family</th>\n",
       "      <th>CCAvg</th>\n",
       "      <th>Education</th>\n",
       "      <th>Mortgage</th>\n",
       "      <th>Personal Loan</th>\n",
       "      <th>Securities Account</th>\n",
       "      <th>CD Account</th>\n",
       "      <th>Online</th>\n",
       "      <th>CreditCard</th>\n",
       "    </tr>\n",
       "  </thead>\n",
       "  <tbody>\n",
       "    <tr>\n",
       "      <th>0</th>\n",
       "      <td>25</td>\n",
       "      <td>1</td>\n",
       "      <td>49</td>\n",
       "      <td>91107</td>\n",
       "      <td>4</td>\n",
       "      <td>1.6</td>\n",
       "      <td>1</td>\n",
       "      <td>0</td>\n",
       "      <td>0</td>\n",
       "      <td>1</td>\n",
       "      <td>0</td>\n",
       "      <td>0</td>\n",
       "      <td>0</td>\n",
       "    </tr>\n",
       "    <tr>\n",
       "      <th>1</th>\n",
       "      <td>45</td>\n",
       "      <td>19</td>\n",
       "      <td>34</td>\n",
       "      <td>90089</td>\n",
       "      <td>3</td>\n",
       "      <td>1.5</td>\n",
       "      <td>1</td>\n",
       "      <td>0</td>\n",
       "      <td>0</td>\n",
       "      <td>1</td>\n",
       "      <td>0</td>\n",
       "      <td>0</td>\n",
       "      <td>0</td>\n",
       "    </tr>\n",
       "    <tr>\n",
       "      <th>2</th>\n",
       "      <td>39</td>\n",
       "      <td>15</td>\n",
       "      <td>11</td>\n",
       "      <td>94720</td>\n",
       "      <td>1</td>\n",
       "      <td>1.0</td>\n",
       "      <td>1</td>\n",
       "      <td>0</td>\n",
       "      <td>0</td>\n",
       "      <td>0</td>\n",
       "      <td>0</td>\n",
       "      <td>0</td>\n",
       "      <td>0</td>\n",
       "    </tr>\n",
       "    <tr>\n",
       "      <th>3</th>\n",
       "      <td>35</td>\n",
       "      <td>9</td>\n",
       "      <td>100</td>\n",
       "      <td>94112</td>\n",
       "      <td>1</td>\n",
       "      <td>2.7</td>\n",
       "      <td>2</td>\n",
       "      <td>0</td>\n",
       "      <td>0</td>\n",
       "      <td>0</td>\n",
       "      <td>0</td>\n",
       "      <td>0</td>\n",
       "      <td>0</td>\n",
       "    </tr>\n",
       "    <tr>\n",
       "      <th>4</th>\n",
       "      <td>35</td>\n",
       "      <td>8</td>\n",
       "      <td>45</td>\n",
       "      <td>91330</td>\n",
       "      <td>4</td>\n",
       "      <td>1.0</td>\n",
       "      <td>2</td>\n",
       "      <td>0</td>\n",
       "      <td>0</td>\n",
       "      <td>0</td>\n",
       "      <td>0</td>\n",
       "      <td>0</td>\n",
       "      <td>1</td>\n",
       "    </tr>\n",
       "  </tbody>\n",
       "</table>\n",
       "</div>"
      ],
      "text/plain": [
       "   Age  Experience  Income  ZIP Code  Family  CCAvg  Education  Mortgage  \\\n",
       "0   25           1      49     91107       4    1.6          1         0   \n",
       "1   45          19      34     90089       3    1.5          1         0   \n",
       "2   39          15      11     94720       1    1.0          1         0   \n",
       "3   35           9     100     94112       1    2.7          2         0   \n",
       "4   35           8      45     91330       4    1.0          2         0   \n",
       "\n",
       "   Personal Loan  Securities Account  CD Account  Online  CreditCard  \n",
       "0              0                   1           0       0           0  \n",
       "1              0                   1           0       0           0  \n",
       "2              0                   0           0       0           0  \n",
       "3              0                   0           0       0           0  \n",
       "4              0                   0           0       0           1  "
      ]
     },
     "execution_count": 26,
     "metadata": {},
     "output_type": "execute_result"
    }
   ],
   "source": [
    "df = df.drop([\"ID\"], axis=1)\n",
    "df.head()"
   ]
  },
  {
   "cell_type": "code",
   "execution_count": 27,
   "id": "3eb715ab-e296-471a-940a-4ab61e785bae",
   "metadata": {},
   "outputs": [],
   "source": [
    "# then they are viewing the Zip code Data"
   ]
  },
  {
   "cell_type": "code",
   "execution_count": 28,
   "id": "7cfc6613-d54e-4c00-baf1-59c7b14649f5",
   "metadata": {},
   "outputs": [
    {
     "ename": "FileNotFoundError",
     "evalue": "[Errno 2] No such file or directory: 'ZIP_County.csv'",
     "output_type": "error",
     "traceback": [
      "\u001b[1;31m---------------------------------------------------------------------------\u001b[0m",
      "\u001b[1;31mFileNotFoundError\u001b[0m                         Traceback (most recent call last)",
      "Cell \u001b[1;32mIn[28], line 1\u001b[0m\n\u001b[1;32m----> 1\u001b[0m df_county \u001b[38;5;241m=\u001b[39m pd\u001b[38;5;241m.\u001b[39mread_csv(\u001b[38;5;124m\"\u001b[39m\u001b[38;5;124mZIP_County.csv\u001b[39m\u001b[38;5;124m\"\u001b[39m) \u001b[38;5;66;03m#which is a seperate  dataset it appears\u001b[39;00m\n\u001b[0;32m      2\u001b[0m df_county\u001b[38;5;241m.\u001b[39mhead()\n",
      "File \u001b[1;32m~\\anaconda3\\envs\\notebook2\\Lib\\site-packages\\pandas\\io\\parsers\\readers.py:1026\u001b[0m, in \u001b[0;36mread_csv\u001b[1;34m(filepath_or_buffer, sep, delimiter, header, names, index_col, usecols, dtype, engine, converters, true_values, false_values, skipinitialspace, skiprows, skipfooter, nrows, na_values, keep_default_na, na_filter, verbose, skip_blank_lines, parse_dates, infer_datetime_format, keep_date_col, date_parser, date_format, dayfirst, cache_dates, iterator, chunksize, compression, thousands, decimal, lineterminator, quotechar, quoting, doublequote, escapechar, comment, encoding, encoding_errors, dialect, on_bad_lines, delim_whitespace, low_memory, memory_map, float_precision, storage_options, dtype_backend)\u001b[0m\n\u001b[0;32m   1013\u001b[0m kwds_defaults \u001b[38;5;241m=\u001b[39m _refine_defaults_read(\n\u001b[0;32m   1014\u001b[0m     dialect,\n\u001b[0;32m   1015\u001b[0m     delimiter,\n\u001b[1;32m   (...)\u001b[0m\n\u001b[0;32m   1022\u001b[0m     dtype_backend\u001b[38;5;241m=\u001b[39mdtype_backend,\n\u001b[0;32m   1023\u001b[0m )\n\u001b[0;32m   1024\u001b[0m kwds\u001b[38;5;241m.\u001b[39mupdate(kwds_defaults)\n\u001b[1;32m-> 1026\u001b[0m \u001b[38;5;28;01mreturn\u001b[39;00m _read(filepath_or_buffer, kwds)\n",
      "File \u001b[1;32m~\\anaconda3\\envs\\notebook2\\Lib\\site-packages\\pandas\\io\\parsers\\readers.py:620\u001b[0m, in \u001b[0;36m_read\u001b[1;34m(filepath_or_buffer, kwds)\u001b[0m\n\u001b[0;32m    617\u001b[0m _validate_names(kwds\u001b[38;5;241m.\u001b[39mget(\u001b[38;5;124m\"\u001b[39m\u001b[38;5;124mnames\u001b[39m\u001b[38;5;124m\"\u001b[39m, \u001b[38;5;28;01mNone\u001b[39;00m))\n\u001b[0;32m    619\u001b[0m \u001b[38;5;66;03m# Create the parser.\u001b[39;00m\n\u001b[1;32m--> 620\u001b[0m parser \u001b[38;5;241m=\u001b[39m TextFileReader(filepath_or_buffer, \u001b[38;5;241m*\u001b[39m\u001b[38;5;241m*\u001b[39mkwds)\n\u001b[0;32m    622\u001b[0m \u001b[38;5;28;01mif\u001b[39;00m chunksize \u001b[38;5;129;01mor\u001b[39;00m iterator:\n\u001b[0;32m    623\u001b[0m     \u001b[38;5;28;01mreturn\u001b[39;00m parser\n",
      "File \u001b[1;32m~\\anaconda3\\envs\\notebook2\\Lib\\site-packages\\pandas\\io\\parsers\\readers.py:1620\u001b[0m, in \u001b[0;36mTextFileReader.__init__\u001b[1;34m(self, f, engine, **kwds)\u001b[0m\n\u001b[0;32m   1617\u001b[0m     \u001b[38;5;28mself\u001b[39m\u001b[38;5;241m.\u001b[39moptions[\u001b[38;5;124m\"\u001b[39m\u001b[38;5;124mhas_index_names\u001b[39m\u001b[38;5;124m\"\u001b[39m] \u001b[38;5;241m=\u001b[39m kwds[\u001b[38;5;124m\"\u001b[39m\u001b[38;5;124mhas_index_names\u001b[39m\u001b[38;5;124m\"\u001b[39m]\n\u001b[0;32m   1619\u001b[0m \u001b[38;5;28mself\u001b[39m\u001b[38;5;241m.\u001b[39mhandles: IOHandles \u001b[38;5;241m|\u001b[39m \u001b[38;5;28;01mNone\u001b[39;00m \u001b[38;5;241m=\u001b[39m \u001b[38;5;28;01mNone\u001b[39;00m\n\u001b[1;32m-> 1620\u001b[0m \u001b[38;5;28mself\u001b[39m\u001b[38;5;241m.\u001b[39m_engine \u001b[38;5;241m=\u001b[39m \u001b[38;5;28mself\u001b[39m\u001b[38;5;241m.\u001b[39m_make_engine(f, \u001b[38;5;28mself\u001b[39m\u001b[38;5;241m.\u001b[39mengine)\n",
      "File \u001b[1;32m~\\anaconda3\\envs\\notebook2\\Lib\\site-packages\\pandas\\io\\parsers\\readers.py:1880\u001b[0m, in \u001b[0;36mTextFileReader._make_engine\u001b[1;34m(self, f, engine)\u001b[0m\n\u001b[0;32m   1878\u001b[0m     \u001b[38;5;28;01mif\u001b[39;00m \u001b[38;5;124m\"\u001b[39m\u001b[38;5;124mb\u001b[39m\u001b[38;5;124m\"\u001b[39m \u001b[38;5;129;01mnot\u001b[39;00m \u001b[38;5;129;01min\u001b[39;00m mode:\n\u001b[0;32m   1879\u001b[0m         mode \u001b[38;5;241m+\u001b[39m\u001b[38;5;241m=\u001b[39m \u001b[38;5;124m\"\u001b[39m\u001b[38;5;124mb\u001b[39m\u001b[38;5;124m\"\u001b[39m\n\u001b[1;32m-> 1880\u001b[0m \u001b[38;5;28mself\u001b[39m\u001b[38;5;241m.\u001b[39mhandles \u001b[38;5;241m=\u001b[39m get_handle(\n\u001b[0;32m   1881\u001b[0m     f,\n\u001b[0;32m   1882\u001b[0m     mode,\n\u001b[0;32m   1883\u001b[0m     encoding\u001b[38;5;241m=\u001b[39m\u001b[38;5;28mself\u001b[39m\u001b[38;5;241m.\u001b[39moptions\u001b[38;5;241m.\u001b[39mget(\u001b[38;5;124m\"\u001b[39m\u001b[38;5;124mencoding\u001b[39m\u001b[38;5;124m\"\u001b[39m, \u001b[38;5;28;01mNone\u001b[39;00m),\n\u001b[0;32m   1884\u001b[0m     compression\u001b[38;5;241m=\u001b[39m\u001b[38;5;28mself\u001b[39m\u001b[38;5;241m.\u001b[39moptions\u001b[38;5;241m.\u001b[39mget(\u001b[38;5;124m\"\u001b[39m\u001b[38;5;124mcompression\u001b[39m\u001b[38;5;124m\"\u001b[39m, \u001b[38;5;28;01mNone\u001b[39;00m),\n\u001b[0;32m   1885\u001b[0m     memory_map\u001b[38;5;241m=\u001b[39m\u001b[38;5;28mself\u001b[39m\u001b[38;5;241m.\u001b[39moptions\u001b[38;5;241m.\u001b[39mget(\u001b[38;5;124m\"\u001b[39m\u001b[38;5;124mmemory_map\u001b[39m\u001b[38;5;124m\"\u001b[39m, \u001b[38;5;28;01mFalse\u001b[39;00m),\n\u001b[0;32m   1886\u001b[0m     is_text\u001b[38;5;241m=\u001b[39mis_text,\n\u001b[0;32m   1887\u001b[0m     errors\u001b[38;5;241m=\u001b[39m\u001b[38;5;28mself\u001b[39m\u001b[38;5;241m.\u001b[39moptions\u001b[38;5;241m.\u001b[39mget(\u001b[38;5;124m\"\u001b[39m\u001b[38;5;124mencoding_errors\u001b[39m\u001b[38;5;124m\"\u001b[39m, \u001b[38;5;124m\"\u001b[39m\u001b[38;5;124mstrict\u001b[39m\u001b[38;5;124m\"\u001b[39m),\n\u001b[0;32m   1888\u001b[0m     storage_options\u001b[38;5;241m=\u001b[39m\u001b[38;5;28mself\u001b[39m\u001b[38;5;241m.\u001b[39moptions\u001b[38;5;241m.\u001b[39mget(\u001b[38;5;124m\"\u001b[39m\u001b[38;5;124mstorage_options\u001b[39m\u001b[38;5;124m\"\u001b[39m, \u001b[38;5;28;01mNone\u001b[39;00m),\n\u001b[0;32m   1889\u001b[0m )\n\u001b[0;32m   1890\u001b[0m \u001b[38;5;28;01massert\u001b[39;00m \u001b[38;5;28mself\u001b[39m\u001b[38;5;241m.\u001b[39mhandles \u001b[38;5;129;01mis\u001b[39;00m \u001b[38;5;129;01mnot\u001b[39;00m \u001b[38;5;28;01mNone\u001b[39;00m\n\u001b[0;32m   1891\u001b[0m f \u001b[38;5;241m=\u001b[39m \u001b[38;5;28mself\u001b[39m\u001b[38;5;241m.\u001b[39mhandles\u001b[38;5;241m.\u001b[39mhandle\n",
      "File \u001b[1;32m~\\anaconda3\\envs\\notebook2\\Lib\\site-packages\\pandas\\io\\common.py:873\u001b[0m, in \u001b[0;36mget_handle\u001b[1;34m(path_or_buf, mode, encoding, compression, memory_map, is_text, errors, storage_options)\u001b[0m\n\u001b[0;32m    868\u001b[0m \u001b[38;5;28;01melif\u001b[39;00m \u001b[38;5;28misinstance\u001b[39m(handle, \u001b[38;5;28mstr\u001b[39m):\n\u001b[0;32m    869\u001b[0m     \u001b[38;5;66;03m# Check whether the filename is to be opened in binary mode.\u001b[39;00m\n\u001b[0;32m    870\u001b[0m     \u001b[38;5;66;03m# Binary mode does not support 'encoding' and 'newline'.\u001b[39;00m\n\u001b[0;32m    871\u001b[0m     \u001b[38;5;28;01mif\u001b[39;00m ioargs\u001b[38;5;241m.\u001b[39mencoding \u001b[38;5;129;01mand\u001b[39;00m \u001b[38;5;124m\"\u001b[39m\u001b[38;5;124mb\u001b[39m\u001b[38;5;124m\"\u001b[39m \u001b[38;5;129;01mnot\u001b[39;00m \u001b[38;5;129;01min\u001b[39;00m ioargs\u001b[38;5;241m.\u001b[39mmode:\n\u001b[0;32m    872\u001b[0m         \u001b[38;5;66;03m# Encoding\u001b[39;00m\n\u001b[1;32m--> 873\u001b[0m         handle \u001b[38;5;241m=\u001b[39m \u001b[38;5;28mopen\u001b[39m(\n\u001b[0;32m    874\u001b[0m             handle,\n\u001b[0;32m    875\u001b[0m             ioargs\u001b[38;5;241m.\u001b[39mmode,\n\u001b[0;32m    876\u001b[0m             encoding\u001b[38;5;241m=\u001b[39mioargs\u001b[38;5;241m.\u001b[39mencoding,\n\u001b[0;32m    877\u001b[0m             errors\u001b[38;5;241m=\u001b[39merrors,\n\u001b[0;32m    878\u001b[0m             newline\u001b[38;5;241m=\u001b[39m\u001b[38;5;124m\"\u001b[39m\u001b[38;5;124m\"\u001b[39m,\n\u001b[0;32m    879\u001b[0m         )\n\u001b[0;32m    880\u001b[0m     \u001b[38;5;28;01melse\u001b[39;00m:\n\u001b[0;32m    881\u001b[0m         \u001b[38;5;66;03m# Binary mode\u001b[39;00m\n\u001b[0;32m    882\u001b[0m         handle \u001b[38;5;241m=\u001b[39m \u001b[38;5;28mopen\u001b[39m(handle, ioargs\u001b[38;5;241m.\u001b[39mmode)\n",
      "\u001b[1;31mFileNotFoundError\u001b[0m: [Errno 2] No such file or directory: 'ZIP_County.csv'"
     ]
    }
   ],
   "source": [
    "df_county = pd.read_csv(\"ZIP_County.csv\") #which is a seperate  dataset it appears\n",
    "df_county.head()"
   ]
  },
  {
   "cell_type": "code",
   "execution_count": null,
   "id": "6c5bf79b-817f-468f-98f1-ee59e4cafca6",
   "metadata": {},
   "outputs": [],
   "source": [
    "#and then merge the county name to the original dataframe"
   ]
  },
  {
   "cell_type": "code",
   "execution_count": null,
   "id": "532d3e92-0a6d-4499-9f44-ff1a4e28ef27",
   "metadata": {},
   "outputs": [],
   "source": [
    "df = pd.merge(df, df_county, how=\"inner\", on = \"ZIP Code\")\n",
    "df.head()"
   ]
  },
  {
   "cell_type": "code",
   "execution_count": null,
   "id": "d19d843a-465f-41f6-9e83-ba271e3afe8a",
   "metadata": {},
   "outputs": [],
   "source": [
    "#then they remove negative values in the experience column"
   ]
  },
  {
   "cell_type": "code",
   "execution_count": null,
   "id": "0f298871-a8cb-44c0-b3e2-cd90a3a61806",
   "metadata": {},
   "outputs": [],
   "source": [
    "print(\"Shape Before Filtration: \", df.shape)\n",
    "df = df[df[\"Experience\"]>0]\n",
    "print(\"Shape After Filtration: \", df.shape)"
   ]
  },
  {
   "cell_type": "code",
   "execution_count": null,
   "id": "46ebdd4e-ca06-46db-af48-c30951f34fa0",
   "metadata": {},
   "outputs": [],
   "source": [
    "# and finally EDA on the numerical columns, with a histogram, box plot for outliers and violin plot for data distribution"
   ]
  },
  {
   "cell_type": "code",
   "execution_count": null,
   "id": "88f154b4-51fe-40a4-b654-1678d31be6d8",
   "metadata": {},
   "outputs": [],
   "source": [
    "fig = plt.figure(figsize=(6,6))\n",
    "pls.hist(df[\"Age\"], color = \"r\")\n",
    "plt.title(\"Age Histogram\")\n",
    "pls.xlabel(\"Age\")\n",
    "plt.ylabel(\"counts\");"
   ]
  },
  {
   "cell_type": "code",
   "execution_count": null,
   "id": "6d8f00b3-77c6-4288-a6e9-01fcf5a65373",
   "metadata": {},
   "outputs": [],
   "source": [
    "fig = plt.figure(figsize=(6,6))\n",
    "sns.boxplot(x = df[\"Age\"])\n",
    "plt.title(\"Age Box Plot\")\n",
    "pls.xlabel(\"Age\")\n",
    "plt.ylabel(\"Box Representation\");"
   ]
  },
  {
   "cell_type": "code",
   "execution_count": null,
   "id": "8d4584dd-feb8-42bd-83ad-9c041655c7ca",
   "metadata": {},
   "outputs": [],
   "source": [
    "fig = plt.figure(figsize=(6,6))\n",
    "sns.violinplot(x = df[\"Age\"])\n",
    "plt.title(\"Age Violin Plot\")\n",
    "pls.xlabel(\"Age\")\n",
    "plt.ylabel(\"Distribution\");"
   ]
  },
  {
   "cell_type": "code",
   "execution_count": null,
   "id": "8a8de3c2-1a6e-4df7-b61a-9fdd7ace5ad7",
   "metadata": {},
   "outputs": [],
   "source": [
    "# They next to EDA on the catagorical columns - Though i thought there was only the one?  However perhaps some of the float were considered catagorical?"
   ]
  },
  {
   "cell_type": "code",
   "execution_count": null,
   "id": "e5bc2d19-e372-4e43-93cb-a95fd36e8eaa",
   "metadata": {},
   "outputs": [],
   "source": [
    "sns.countplot(x=\"Education\", data = df);"
   ]
  },
  {
   "cell_type": "code",
   "execution_count": null,
   "id": "a1f4a989-f917-4be6-9f59-f6fa721dbfd5",
   "metadata": {},
   "outputs": [],
   "source": [
    "# only those who took a loan\n",
    "sns.countplot(x=\"Education\", data = df[df[\"Personal Loan\"]==1]);"
   ]
  },
  {
   "cell_type": "code",
   "execution_count": null,
   "id": "2c70d739-a555-4889-b076-b46bfa3248df",
   "metadata": {},
   "outputs": [],
   "source": [
    "# they next check the relationship with crosstab function which i don't recall us doing before so will be interesting to see"
   ]
  },
  {
   "cell_type": "code",
   "execution_count": null,
   "id": "7b55be41-ac89-4f08-8758-37e864350201",
   "metadata": {},
   "outputs": [],
   "source": [
    "pd.crosstab(df[\"Education\"],df[\"Personal Loan\"]).plot(kind=\"bar\", figsize=(6,6))\n",
    "plt.xlabel(\"Education\")\n",
    "plt.legend([\"No Loan\", \"Loan\"])\n",
    "plt.ylabel(\"Number of Occurences\")\n",
    "plt.show();"
   ]
  },
  {
   "cell_type": "code",
   "execution_count": null,
   "id": "03d45527-47c9-4f0e-9176-d7e33c5f3eec",
   "metadata": {},
   "outputs": [],
   "source": [
    "# and the relationship between features with a heatmap then Pairplot"
   ]
  },
  {
   "cell_type": "code",
   "execution_count": null,
   "id": "5173c990-baf5-4189-8aa7-1b965d492019",
   "metadata": {},
   "outputs": [],
   "source": [
    "fig = plt.figure(figsize=(10,10))\n",
    "sns.heatmap(df.corr(), annot = True);"
   ]
  },
  {
   "cell_type": "code",
   "execution_count": null,
   "id": "5f67d555-03e6-4a4e-82f4-93683d59b128",
   "metadata": {},
   "outputs": [],
   "source": [
    "sns.pairplot(df[[\"Age\", \"Income\", \"Experience\", \"CCAvg\"]]];"
   ]
  },
  {
   "cell_type": "markdown",
   "id": "98f9f0cb-9e07-4a50-a136-606f7dca829d",
   "metadata": {},
   "source": [
    "## and In summary they conclude\n",
    "\n",
    "We conclude the direct strong relationship between age and experience."
   ]
  }
 ],
 "metadata": {
  "kernelspec": {
   "display_name": "Python 3 (ipykernel)",
   "language": "python",
   "name": "python3"
  },
  "language_info": {
   "codemirror_mode": {
    "name": "ipython",
    "version": 3
   },
   "file_extension": ".py",
   "mimetype": "text/x-python",
   "name": "python",
   "nbconvert_exporter": "python",
   "pygments_lexer": "ipython3",
   "version": "3.11.8"
  }
 },
 "nbformat": 4,
 "nbformat_minor": 5
}
