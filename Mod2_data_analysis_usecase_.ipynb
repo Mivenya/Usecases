{
 "cells": [
  {
   "cell_type": "markdown",
   "id": "abc49bed-ae0c-4b0f-bc66-aa5da2d91fd5",
   "metadata": {},
   "source": [
    "# Data Analysis Usecase"
   ]
  },
  {
   "cell_type": "markdown",
   "id": "ada79684-a14b-4a09-8d6d-29d5e6b00371",
   "metadata": {},
   "source": [
    "### Steps to guarantee beneficial analysis\r\n",
    "There are multiple factors to take care of to ensure a better analytics pipeline for your data.\n",
    "### \r\n",
    "Step 1: What Do you need to find out?\r\n",
    "The first step is to consider what your goal is and what decision-making it will facilitate. What outcome from the analysis would you deem a success? These introductory data analysis questions are necessary to guide you through the process and help focus on key insight\n",
    "s.\r\n",
    "Examples for common analysis questi\n",
    "o- ns:\r\n",
    "What is a typical va- lue?\r\n",
    "What is the uncertainty for a typical v- alue?\r\n",
    "What is a good fit for a set of nu- mbers?\r\n",
    "What are the percenti- les of?\r\n",
    "Does a modification have an-  effect?\r\n",
    "Does a factor have a- n effect?\r\n",
    "What are the most importan- t factors?\r\n",
    "Does the data hav\n",
    "### e outliers?\r\n",
    "Step 2: Define the metrics to measure success of your goal\r\n",
    "The Next step is to define what exact features will help in retrieving the answers you need. You explore the data available and understand what combinations of your data can answer the questi\n",
    "### ons you have.\r\n",
    "Step 3: Define the steps to reach your goal\r\n",
    "Some datasets need to be cleaned, preprocessed, or even modified critically in order to retrieve your analysis questions. The answers might not be mature enough without performing these steps.\r\n",
    "An important step of analysis is preparing your data to ensure the quality o### f your findings.\r\n",
    "Step 4: Communicate your findings\r\n",
    "A critical step is communicating your findings to all stakeholders. This includes non-technical parties in most cases. To be able to communicate your findings,\n",
    " you will need to:\r\n",
    "Use the proper visualizations that are easy to understand and are the most suitable for\n",
    " a specific result.\r\n",
    "You might use analytics software to produce reports and dashboards for these stakeholders."
   ]
  },
  {
   "cell_type": "markdown",
   "id": "04a791b4-817b-452f-b3c6-461db768ecc5",
   "metadata": {},
   "source": [
    "## Bank Loan Business Data\n",
    "\r",
    "### \n",
    "Description\n",
    ":\r\n",
    "Thera Bank is a US bank that has a growing customer base. The majority of these customers are liability customers (depositors) with varying sizes of deposits. The number of customers who are also borrowers (asset customers) is quite small, and the bank is interested in expanding this base rapidly to bring in more loan business and in the process, earn more through the interest on loans. In particular, the management wants to explore ways of converting its liability customers to personal loan customers (while retaining them as depositors).\r\n",
    "A campaign that the bank ran last year for liability customers showed a healthy conversion rate of over 9% success. This has encouraged the retail marketing department to devise campaigns with better target marketing to increase the success rati\n",
    "- o.\r\n",
    "ID: Customer-  ID\r\n",
    "Age: Customer’s age in completed y- ears\r\n",
    "Experience: #years of professional exper- ience\r\n",
    "Income: Annual income of the customer (in thousand do- llars)\r\n",
    "ZIP Code: Home Address Z- IP code\r\n",
    "Family: the Family size of the - customer\r\n",
    "CCAvg: Average spending on credit cards per month (in thousand-  dollars)\r\n",
    "Education: Educa- tion Level\r\n",
    "Mortgage: Value of house mortgage if any. (in thousa- nd dollars)\r\n",
    "Personal_Loan: Did this customer accept the personal loan offered in the la- st campaign?\r\n",
    "Securities_Account: Does the customer have a securities account w- ith the bank?\r\n",
    "CD_Account: Does the customer have a certificate of deposit (CD) account - with the bank?\r\n",
    "Online: Do customers use internet bank- ing facilities?\r\n",
    "CreditCard: Does the customer use a credit card issued by any other Bank (excludin\n",
    "\n",
    "- https://www.kaggle.com/datasets/itsmesunil/bank-loan-modelling/download?datasetVersionNumber=1g All life Bank)?"
   ]
  },
  {
   "cell_type": "code",
   "execution_count": null,
   "id": "aad3fc44-6270-47e6-be90-c422ea7d6cb4",
   "metadata": {},
   "outputs": [],
   "source": [
    "# Ok - if I understand use case correctly, we are following along to learn and noting any of our thoughts/experiences\n",
    "# So first importing libraries and viewing the columns info"
   ]
  },
  {
   "cell_type": "code",
   "execution_count": null,
   "id": "9d53bd38-1879-4265-976c-aa68b273554b",
   "metadata": {},
   "outputs": [],
   "source": [
    "import pandas as pd\n",
    "import numpy as np\n",
    "import matplotlib.pyplot\n",
    "import seaborn as sns"
   ]
  },
  {
   "cell_type": "code",
   "execution_count": null,
   "id": "a510c01a-3811-4541-8f6e-2a93f9f0900c",
   "metadata": {},
   "outputs": [],
   "source": [
    "df = pd.read_csv(\"Bank_Loan - Bank_Loan.csv\")\n",
    "df.head()"
   ]
  },
  {
   "cell_type": "code",
   "execution_count": null,
   "id": "d00ec259-62f7-4588-bcb8-450bb65f57cc",
   "metadata": {},
   "outputs": [],
   "source": [
    "df.info()"
   ]
  },
  {
   "cell_type": "code",
   "execution_count": null,
   "id": "80fcee5c-3613-4340-939e-4816f871c0d7",
   "metadata": {},
   "outputs": [],
   "source": [
    "# Which shows us there are 14 total features - 8 int64 (numerical) 5 Float64 (numerical), 1 object (catagorical will need encoding if kept)\n",
    "# I notice that in here they are being called attributes rather than features - are they both considered correct?"
   ]
  },
  {
   "cell_type": "code",
   "execution_count": null,
   "id": "a775e5f3-3270-4e4f-9a14-d30c14d44519",
   "metadata": {},
   "outputs": [],
   "source": [
    "#Next we are viewing some of the statistical information for Age, CCAvg (credit card average?) and Income"
   ]
  },
  {
   "cell_type": "code",
   "execution_count": null,
   "id": "bbf17ba0-752d-4f6f-96a4-0dd61ebc691a",
   "metadata": {},
   "outputs": [],
   "source": [
    "df[[\"Age\", \"Income\", \"CCAvg\"]].describe()"
   ]
  },
  {
   "cell_type": "markdown",
   "id": "c9c632ed-a394-4492-a436-0ec51659adc4",
   "metadata": {},
   "source": [
    " Which gave the following information they noted\n",
    "\n",
    "We can conclude:\r",
    "- \n",
    "The average age of 45 years with a deviation of 11 years.- \r\n",
    "The average income of 73,000$ with the maximum applicant with 224,000$ for income- .\r\n",
    "75% of the customers have an income of less than 98,000- $.\r\n",
    "Average credit card spending of 1900$."
   ]
  },
  {
   "cell_type": "code",
   "execution_count": null,
   "id": "f737a9da-6827-433a-91c8-a948be115288",
   "metadata": {},
   "outputs": [],
   "source": [
    "# Next they suggest understanding behaviour of those who have previously applied for loans in order to target them, so filter for from a previous campaign.\n",
    "# I see they are doing this by checking if the values are equal to 1 or \"yes\" so to speak and showing the statisctical for the ones who did"
   ]
  },
  {
   "cell_type": "code",
   "execution_count": null,
   "id": "215f4fe0-bf2f-4be1-a1b6-cc7f2801199d",
   "metadata": {},
   "outputs": [],
   "source": [
    "df[df[\"Personal Loan\"]==1][[\"Age\",, \"Income\", \"CCAvg\"]].describe()"
   ]
  },
  {
   "cell_type": "code",
   "execution_count": null,
   "id": "ce1f99e6-291c-4729-bd51-35c1ab811368",
   "metadata": {},
   "outputs": [],
   "source": [
    "# Next they mention Data cleaning, so checking for and dealing with missing values first"
   ]
  },
  {
   "cell_type": "code",
   "execution_count": null,
   "id": "f17fdee1-a03d-4082-b8aa-53930660ef90",
   "metadata": {},
   "outputs": [],
   "source": [
    "df.isna().sum()"
   ]
  },
  {
   "cell_type": "markdown",
   "id": "66eb4ded-1e99-4d8c-8e5e-e92d051c30ec",
   "metadata": {},
   "source": [
    "Missing Values:\r\n",
    "6 missing values in the age column.\r\n",
    "5 missing values in income.\r\n",
    "3 missing values in the family column.\r\n",
    "1 missing value for a mortgage."
   ]
  },
  {
   "cell_type": "code",
   "execution_count": null,
   "id": "d7852f4c-a377-44f4-83eb-cf12cde760f6",
   "metadata": {},
   "outputs": [],
   "source": [
    "# so they are assuming that empty in features \"Family\" and \"Mortgage\" mean they do not have any or a value of Zero so are changing them to that"
   ]
  },
  {
   "cell_type": "code",
   "execution_count": null,
   "id": "976754c8-50fa-4043-aa36-1092482ee580",
   "metadata": {},
   "outputs": [],
   "source": [
    "cols = [\"Family\", \"Mortgage\"]\n",
    "for col in cols:\n",
    "    df[col] = df[col].fillna(0)\n",
    "\n",
    "df[[\"Family\", \"Mortgage\"]].isna().sum()\n",
    "#showing that is now fixed"
   ]
  },
  {
   "cell_type": "code",
   "execution_count": null,
   "id": "57b15a72-12a0-42bb-940a-3bc741ea0422",
   "metadata": {},
   "outputs": [],
   "source": [
    "# For age and Income they will you the mean value (average)"
   ]
  },
  {
   "cell_type": "code",
   "execution_count": null,
   "id": "c57e4d1b-2a7e-4cea-bf2e-27a7910f6f6d",
   "metadata": {},
   "outputs": [],
   "source": [
    "cols = [\"Age\", \"Income\"]\n",
    "for col in cols:\n",
    "    df[col] = df[col].fillna(df[col].mean())\n",
    "\n",
    "df[[\"Age\", \"Income\"]].isna().sum()\n",
    "#showing these now fixed also"
   ]
  },
  {
   "cell_type": "code",
   "execution_count": null,
   "id": "de4cb9f1-a1fa-4f80-aa7a-34025e5b675d",
   "metadata": {},
   "outputs": [],
   "source": [
    "# next they check for duplicate values, which they find 5 of and then remove."
   ]
  },
  {
   "cell_type": "code",
   "execution_count": null,
   "id": "32f7c3fa-be6b-4400-83e2-e13608b0905e",
   "metadata": {},
   "outputs": [],
   "source": [
    "sum(df.duplicated(subset = ['ID']))"
   ]
  },
  {
   "cell_type": "code",
   "execution_count": null,
   "id": "819f63f4-c28b-4932-b56c-76c43004a43f",
   "metadata": {},
   "outputs": [],
   "source": [
    "df.drop_duplicates(subset = ['ID'], inplace = True)\n",
    "sum(df.duplicated(subset = ['ID]))\n",
    "#showing these now fixed"
   ]
  },
  {
   "cell_type": "code",
   "execution_count": null,
   "id": "a865d1d6-0c5e-492d-814a-fe9c988019be",
   "metadata": {},
   "outputs": [],
   "source": [
    "#next they are doing data prep by removing unneeded columns which they decided they don't need ID"
   ]
  },
  {
   "cell_type": "code",
   "execution_count": null,
   "id": "3d34e0f4-e71b-4abc-a9ac-a6bf490be5b1",
   "metadata": {},
   "outputs": [],
   "source": [
    "df = df.drop([\"ID\"], axis=1)\n",
    "df.head()"
   ]
  },
  {
   "cell_type": "code",
   "execution_count": null,
   "id": "3eb715ab-e296-471a-940a-4ab61e785bae",
   "metadata": {},
   "outputs": [],
   "source": [
    "# then they are viewing the Zip code Data"
   ]
  },
  {
   "cell_type": "code",
   "execution_count": null,
   "id": "7cfc6613-d54e-4c00-baf1-59c7b14649f5",
   "metadata": {},
   "outputs": [],
   "source": [
    "df_county = pd.read_csv(\"ZIP_County.csv\") #which is a seperate  dataset it appears\n",
    "df_county.head()"
   ]
  },
  {
   "cell_type": "code",
   "execution_count": null,
   "id": "6c5bf79b-817f-468f-98f1-ee59e4cafca6",
   "metadata": {},
   "outputs": [],
   "source": [
    "#and then merge the county name to the original dataframe"
   ]
  },
  {
   "cell_type": "code",
   "execution_count": null,
   "id": "532d3e92-0a6d-4499-9f44-ff1a4e28ef27",
   "metadata": {},
   "outputs": [],
   "source": [
    "df = pd.merge(df, df_county, how=\"inner\", on = \"ZIP Code\")\n",
    "df.head()"
   ]
  },
  {
   "cell_type": "code",
   "execution_count": null,
   "id": "d19d843a-465f-41f6-9e83-ba271e3afe8a",
   "metadata": {},
   "outputs": [],
   "source": [
    "#then they remove negative values in the experience column"
   ]
  },
  {
   "cell_type": "code",
   "execution_count": null,
   "id": "0f298871-a8cb-44c0-b3e2-cd90a3a61806",
   "metadata": {},
   "outputs": [],
   "source": [
    "print(\"Shape Before Filtration: \", df.shape)\n",
    "df = df[df[\"Experience\"]>0]\n",
    "print(\"Shape After Filtration: \", df.shape)"
   ]
  },
  {
   "cell_type": "code",
   "execution_count": null,
   "id": "46ebdd4e-ca06-46db-af48-c30951f34fa0",
   "metadata": {},
   "outputs": [],
   "source": [
    "# and finally EDA on the numerical columns, with a histogram, box plot for outliers and violin plot for data distribution"
   ]
  },
  {
   "cell_type": "code",
   "execution_count": null,
   "id": "88f154b4-51fe-40a4-b654-1678d31be6d8",
   "metadata": {},
   "outputs": [],
   "source": [
    "fig = plt.figure(figsize=(6,6))\n",
    "pls.hist(df[\"Age\"], color = \"r\")\n",
    "plt.title(\"Age Histogram\")\n",
    "pls.xlabel(\"Age\")\n",
    "plt.ylabel(\"counts\");"
   ]
  },
  {
   "cell_type": "code",
   "execution_count": null,
   "id": "6d8f00b3-77c6-4288-a6e9-01fcf5a65373",
   "metadata": {},
   "outputs": [],
   "source": [
    "fig = plt.figure(figsize=(6,6))\n",
    "sns.boxplot(x = df[\"Age\"])\n",
    "plt.title(\"Age Box Plot\")\n",
    "pls.xlabel(\"Age\")\n",
    "plt.ylabel(\"Box Representation\");"
   ]
  },
  {
   "cell_type": "code",
   "execution_count": null,
   "id": "8d4584dd-feb8-42bd-83ad-9c041655c7ca",
   "metadata": {},
   "outputs": [],
   "source": [
    "fig = plt.figure(figsize=(6,6))\n",
    "sns.violinplot(x = df[\"Age\"])\n",
    "plt.title(\"Age Violin Plot\")\n",
    "pls.xlabel(\"Age\")\n",
    "plt.ylabel(\"Distribution\");"
   ]
  },
  {
   "cell_type": "code",
   "execution_count": null,
   "id": "8a8de3c2-1a6e-4df7-b61a-9fdd7ace5ad7",
   "metadata": {},
   "outputs": [],
   "source": [
    "# They next to EDA on the catagorical columns - Though i thought there was only the one?  However perhaps some of the float were considered catagorical?"
   ]
  },
  {
   "cell_type": "code",
   "execution_count": null,
   "id": "e5bc2d19-e372-4e43-93cb-a95fd36e8eaa",
   "metadata": {},
   "outputs": [],
   "source": [
    "sns.countplot(x=\"Education\", data = df);"
   ]
  },
  {
   "cell_type": "code",
   "execution_count": null,
   "id": "a1f4a989-f917-4be6-9f59-f6fa721dbfd5",
   "metadata": {},
   "outputs": [],
   "source": [
    "# only those who took a loan\n",
    "sns.countplot(x=\"Education\", data = df[df[\"Personal Loan\"]==1]);"
   ]
  },
  {
   "cell_type": "code",
   "execution_count": null,
   "id": "2c70d739-a555-4889-b076-b46bfa3248df",
   "metadata": {},
   "outputs": [],
   "source": [
    "# they next check the relationship with crosstab function which i don't recall us doing before so will be interesting to see"
   ]
  },
  {
   "cell_type": "code",
   "execution_count": null,
   "id": "7b55be41-ac89-4f08-8758-37e864350201",
   "metadata": {},
   "outputs": [],
   "source": [
    "pd.crosstab(df[\"Education\"],df[\"Personal Loan\"]).plot(kind=\"bar\", figsize=(6,6))\n",
    "plt.xlabel(\"Education\")\n",
    "plt.legend([\"No Loan\", \"Loan\"])\n",
    "plt.ylabel(\"Number of Occurences\")\n",
    "plt.show();"
   ]
  },
  {
   "cell_type": "code",
   "execution_count": null,
   "id": "03d45527-47c9-4f0e-9176-d7e33c5f3eec",
   "metadata": {},
   "outputs": [],
   "source": [
    "# and the relationship between features with a heatmap then Pairplot"
   ]
  },
  {
   "cell_type": "code",
   "execution_count": null,
   "id": "5173c990-baf5-4189-8aa7-1b965d492019",
   "metadata": {},
   "outputs": [],
   "source": [
    "fig = plt.figure(figsize=(10,10))\n",
    "sns.heatmap(df.corr(), annot = True);"
   ]
  },
  {
   "cell_type": "code",
   "execution_count": null,
   "id": "5f67d555-03e6-4a4e-82f4-93683d59b128",
   "metadata": {},
   "outputs": [],
   "source": [
    "sns.pairplot(df[[\"Age\", \"Income\", \"Experience\", \"CCAvg\"]]];"
   ]
  },
  {
   "cell_type": "markdown",
   "id": "98f9f0cb-9e07-4a50-a136-606f7dca829d",
   "metadata": {},
   "source": [
    "## and In summary they conclude\n",
    "\n",
    "We conclude the direct strong relationship between age and experience."
   ]
  }
 ],
 "metadata": {
  "kernelspec": {
   "display_name": "Python 3 (ipykernel)",
   "language": "python",
   "name": "python3"
  },
  "language_info": {
   "codemirror_mode": {
    "name": "ipython",
    "version": 3
   },
   "file_extension": ".py",
   "mimetype": "text/x-python",
   "name": "python",
   "nbconvert_exporter": "python",
   "pygments_lexer": "ipython3",
   "version": "3.11.8"
  }
 },
 "nbformat": 4,
 "nbformat_minor": 5
}
